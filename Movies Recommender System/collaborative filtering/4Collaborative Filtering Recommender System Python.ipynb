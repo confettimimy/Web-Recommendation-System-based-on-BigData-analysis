{
 "cells": [
  {
   "cell_type": "markdown",
   "metadata": {},
   "source": [
    "# Building a movie Recommender System using two techniques of Collaborative Filtering"
   ]
  },
  {
   "cell_type": "markdown",
   "metadata": {},
   "source": [
    "# Dataset"
   ]
  },
  {
   "cell_type": "markdown",
   "metadata": {},
   "source": [
    "We use in this notebook the MovieLens dataset.The dataset consists of movies released on or before July 2017, we extract only ratings data for training and testing contains 100,000 ratings from 700 users on 9,000 movies.\n",
    "\n",
    "Source: https://www.kaggle.com/rounakbanik/the-movies-dataset/data"
   ]
  },
  {
   "cell_type": "code",
   "execution_count": 15,
   "metadata": {},
   "outputs": [],
   "source": [
    "import pandas\n",
    "from sklearn.model_selection import train_test_split\n",
    "import numpy as np\n",
    "import pandas as pd\n",
    "import pylab as pl\n",
    "import math as mt\n",
    "import time\n",
    "import Recommenders4 as Recommenders"
   ]
  },
  {
   "cell_type": "code",
   "execution_count": 16,
   "metadata": {},
   "outputs": [
    {
     "name": "stdout",
     "output_type": "stream",
     "text": [
      "___________ List of recommended movies id _______________\n",
      "\n",
      "['I-1063', 'I-1064', 'I-1062', 'I-1048', 'I-1044', 'I-1058', 'I-1077', 'I-1022', 'I-1020', 'I-1049']\n"
     ]
    }
   ],
   "source": [
    "ratings_metadata_file = 'has_movie.csv'\n",
    "\n",
    "#Read rating movies  metadata\n",
    "\n",
    "ratings_df =  pd.read_csv(ratings_metadata_file)\n",
    "import random\n",
    "ratings_df['rating']= np.random.randint(1, high=10, size=len(ratings_df['rating']))\n",
    "users = ratings_df['userId'].unique()\n",
    "train_data, test_data = train_test_split(ratings_df, test_size=0.20)\n",
    "\n",
    "is_model = Recommenders.item_similarity_recommender_py()\n",
    "is_model.create(train_data, 'userId', 'movieId')\n",
    "\n",
    "\n",
    "user_id = users[2]\n",
    "recom1 = is_model.recommend(user_id)\n",
    "print(\"___________ List of recommended movies id _______________\")\n",
    "print(\"\")\n",
    "print(list(recom1['movie']))"
   ]
  },
  {
   "cell_type": "code",
   "execution_count": null,
   "metadata": {},
   "outputs": [],
   "source": []
  }
 ],
 "metadata": {
  "kernelspec": {
   "display_name": "Python 3",
   "language": "python",
   "name": "python3"
  },
  "language_info": {
   "codemirror_mode": {
    "name": "ipython",
    "version": 3
   },
   "file_extension": ".py",
   "mimetype": "text/x-python",
   "name": "python",
   "nbconvert_exporter": "python",
   "pygments_lexer": "ipython3",
   "version": "3.7.6"
  }
 },
 "nbformat": 4,
 "nbformat_minor": 2
}
